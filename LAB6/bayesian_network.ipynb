{
 "cells": [
  {
   "cell_type": "code",
   "execution_count": 1,
   "id": "723a85dc",
   "metadata": {},
   "outputs": [
    {
     "name": "stdout",
     "output_type": "stream",
     "text": [
      "Requirement already satisfied: pgmpy in c:\\users\\admin\\anaconda3\\lib\\site-packages (0.1.18)\n",
      "Requirement already satisfied: tqdm in c:\\users\\admin\\anaconda3\\lib\\site-packages (from pgmpy) (4.62.3)\n",
      "Requirement already satisfied: torch in c:\\users\\admin\\anaconda3\\lib\\site-packages (from pgmpy) (1.11.0)\n",
      "Requirement already satisfied: joblib in c:\\users\\admin\\anaconda3\\lib\\site-packages (from pgmpy) (1.1.0)\n",
      "Requirement already satisfied: numpy in c:\\users\\admin\\anaconda3\\lib\\site-packages (from pgmpy) (1.20.3)\n",
      "Requirement already satisfied: scipy in c:\\users\\admin\\anaconda3\\lib\\site-packages (from pgmpy) (1.7.1)\n",
      "Requirement already satisfied: pyparsing in c:\\users\\admin\\anaconda3\\lib\\site-packages (from pgmpy) (3.0.4)\n",
      "Requirement already satisfied: scikit-learn in c:\\users\\admin\\anaconda3\\lib\\site-packages (from pgmpy) (0.24.2)\n",
      "Requirement already satisfied: statsmodels in c:\\users\\admin\\anaconda3\\lib\\site-packages (from pgmpy) (0.12.2)\n",
      "Requirement already satisfied: pandas in c:\\users\\admin\\anaconda3\\lib\\site-packages (from pgmpy) (1.3.4)\n",
      "Requirement already satisfied: networkx in c:\\users\\admin\\anaconda3\\lib\\site-packages (from pgmpy) (2.6.3)\n",
      "Requirement already satisfied: pytz>=2017.3 in c:\\users\\admin\\anaconda3\\lib\\site-packages (from pandas->pgmpy) (2021.3)\n",
      "Requirement already satisfied: python-dateutil>=2.7.3 in c:\\users\\admin\\anaconda3\\lib\\site-packages (from pandas->pgmpy) (2.8.2)\n",
      "Requirement already satisfied: six>=1.5 in c:\\users\\admin\\anaconda3\\lib\\site-packages (from python-dateutil>=2.7.3->pandas->pgmpy) (1.16.0)\n",
      "Requirement already satisfied: threadpoolctl>=2.0.0 in c:\\users\\admin\\anaconda3\\lib\\site-packages (from scikit-learn->pgmpy) (2.2.0)\n",
      "Requirement already satisfied: patsy>=0.5 in c:\\users\\admin\\anaconda3\\lib\\site-packages (from statsmodels->pgmpy) (0.5.2)\n",
      "Requirement already satisfied: typing-extensions in c:\\users\\admin\\anaconda3\\lib\\site-packages (from torch->pgmpy) (3.10.0.2)\n",
      "Requirement already satisfied: colorama in c:\\users\\admin\\anaconda3\\lib\\site-packages (from tqdm->pgmpy) (0.4.4)\n"
     ]
    }
   ],
   "source": [
    "!pip install pgmpy"
   ]
  },
  {
   "cell_type": "code",
   "execution_count": 2,
   "id": "61c20394",
   "metadata": {},
   "outputs": [],
   "source": [
    "from pgmpy.models import BayesianModel\n",
    "from pgmpy.factors.discrete import TabularCPD\n",
    "from pgmpy.inference import VariableElimination\n"
   ]
  },
  {
   "cell_type": "code",
   "execution_count": 3,
   "id": "92866584",
   "metadata": {},
   "outputs": [
    {
     "name": "stdout",
     "output_type": "stream",
     "text": [
      "Bayesian network nodes:\n",
      "\t ['Pollution', 'Cancer', 'Smoker', 'Xray', 'Dyspnoea']\n",
      "Bayesian network edges:\n",
      "\t [('Pollution', 'Cancer'), ('Cancer', 'Xray'), ('Cancer', 'Dyspnoea'), ('Smoker', 'Cancer')]\n"
     ]
    },
    {
     "name": "stderr",
     "output_type": "stream",
     "text": [
      "C:\\Users\\admin\\anaconda3\\lib\\site-packages\\pgmpy\\models\\BayesianModel.py:8: FutureWarning: BayesianModel has been renamed to BayesianNetwork. Please use BayesianNetwork class, BayesianModel will be removed in future.\n",
      "  warnings.warn(\n"
     ]
    }
   ],
   "source": [
    "cancer_model = BayesianModel([('Pollution', 'Cancer'), \n",
    "                              ('Smoker', 'Cancer'),\n",
    "                              ('Cancer', 'Xray'),\n",
    "                              ('Cancer', 'Dyspnoea')])\n",
    "print('Bayesian network nodes:')\n",
    "print('\\t', cancer_model.nodes())\n",
    "print('Bayesian network edges:')\n",
    "print('\\t', cancer_model.edges())"
   ]
  },
  {
   "cell_type": "code",
   "execution_count": 4,
   "id": "72d883d1",
   "metadata": {},
   "outputs": [],
   "source": [
    "cpd_poll = TabularCPD(variable='Pollution', variable_card=2,\n",
    "                      values=[[0.9], [0.1]])\n",
    "cpd_smoke = TabularCPD(variable='Smoker', variable_card=2,\n",
    "                       values=[[0.3], [0.7]])\n",
    "cpd_cancer = TabularCPD(variable='Cancer', variable_card=2,\n",
    "                        values=[[0.03, 0.05, 0.001, 0.02],\n",
    "                                [0.97, 0.95, 0.999, 0.98]],\n",
    "                        evidence=['Smoker', 'Pollution'],\n",
    "                        evidence_card=[2, 2])\n",
    "cpd_xray = TabularCPD(variable='Xray', variable_card=2,\n",
    "                      values=[[0.9, 0.2], [0.1, 0.8]],\n",
    "                      evidence=['Cancer'], evidence_card=[2])\n",
    "cpd_dysp = TabularCPD(variable='Dyspnoea', variable_card=2,\n",
    "                      values=[[0.65, 0.3], [0.35, 0.7]],\n",
    "                      evidence=['Cancer'], evidence_card=[2])"
   ]
  },
  {
   "cell_type": "code",
   "execution_count": 5,
   "id": "2b8ff46f",
   "metadata": {},
   "outputs": [
    {
     "name": "stdout",
     "output_type": "stream",
     "text": [
      "Model generated bt adding conditional probability distribution(cpds)\n",
      "Checking for Correctness of model:True\n"
     ]
    }
   ],
   "source": [
    "cancer_model.add_cpds(cpd_poll, cpd_smoke, cpd_cancer, cpd_xray, cpd_dysp)\n",
    "print('Model generated bt adding conditional probability distribution(cpds)')\n",
    "\n",
    "print('Checking for Correctness of model:', end='')\n",
    "print(cancer_model.check_model())"
   ]
  },
  {
   "cell_type": "code",
   "execution_count": 6,
   "id": "3781eb3f",
   "metadata": {},
   "outputs": [
    {
     "name": "stdout",
     "output_type": "stream",
     "text": [
      "Displaying CPDs\n",
      "+--------------+-----+\n",
      "| Pollution(0) | 0.9 |\n",
      "+--------------+-----+\n",
      "| Pollution(1) | 0.1 |\n",
      "+--------------+-----+\n",
      "+-----------+-----+\n",
      "| Smoker(0) | 0.3 |\n",
      "+-----------+-----+\n",
      "| Smoker(1) | 0.7 |\n",
      "+-----------+-----+\n",
      "+-----------+--------------+--------------+--------------+--------------+\n",
      "| Smoker    | Smoker(0)    | Smoker(0)    | Smoker(1)    | Smoker(1)    |\n",
      "+-----------+--------------+--------------+--------------+--------------+\n",
      "| Pollution | Pollution(0) | Pollution(1) | Pollution(0) | Pollution(1) |\n",
      "+-----------+--------------+--------------+--------------+--------------+\n",
      "| Cancer(0) | 0.03         | 0.05         | 0.001        | 0.02         |\n",
      "+-----------+--------------+--------------+--------------+--------------+\n",
      "| Cancer(1) | 0.97         | 0.95         | 0.999        | 0.98         |\n",
      "+-----------+--------------+--------------+--------------+--------------+\n",
      "+---------+-----------+-----------+\n",
      "| Cancer  | Cancer(0) | Cancer(1) |\n",
      "+---------+-----------+-----------+\n",
      "| Xray(0) | 0.9       | 0.2       |\n",
      "+---------+-----------+-----------+\n",
      "| Xray(1) | 0.1       | 0.8       |\n",
      "+---------+-----------+-----------+\n",
      "+-------------+-----------+-----------+\n",
      "| Cancer      | Cancer(0) | Cancer(1) |\n",
      "+-------------+-----------+-----------+\n",
      "| Dyspnoea(0) | 0.65      | 0.3       |\n",
      "+-------------+-----------+-----------+\n",
      "| Dyspnoea(1) | 0.35      | 0.7       |\n",
      "+-------------+-----------+-----------+\n"
     ]
    }
   ],
   "source": [
    "'''print('All local dependencies are as follows')\n",
    "cancer_model.get_independencies()\n",
    "'''\n",
    "\n",
    "print('Displaying CPDs')\n",
    "print(cancer_model.get_cpds('Pollution'))\n",
    "print(cancer_model.get_cpds('Smoker'))\n",
    "print(cancer_model.get_cpds('Cancer'))\n",
    "print(cancer_model.get_cpds('Xray'))\n",
    "print(cancer_model.get_cpds('Dyspnoea'))"
   ]
  },
  {
   "cell_type": "code",
   "execution_count": null,
   "id": "4881d590",
   "metadata": {},
   "outputs": [],
   "source": []
  }
 ],
 "metadata": {
  "kernelspec": {
   "display_name": "Python 3 (ipykernel)",
   "language": "python",
   "name": "python3"
  },
  "language_info": {
   "codemirror_mode": {
    "name": "ipython",
    "version": 3
   },
   "file_extension": ".py",
   "mimetype": "text/x-python",
   "name": "python",
   "nbconvert_exporter": "python",
   "pygments_lexer": "ipython3",
   "version": "3.9.7"
  }
 },
 "nbformat": 4,
 "nbformat_minor": 5
}
